{
 "cells": [
  {
   "cell_type": "markdown",
   "id": "1d388755",
   "metadata": {},
   "source": [
    "# Desert \n",
    "\n",
    "We need to leave Utah at some point. I'm going to show it in data"
   ]
  },
  {
   "cell_type": "markdown",
   "id": "ec8d64b4",
   "metadata": {},
   "source": [
    "What kind of data do I need?\n",
    "\n",
    "- I can just start with a statistical understanding of the data of the great salt Lake\n",
    "\n",
    "- I will need to map this data (W11 States, maybe whole US?, Utah)\n"
   ]
  },
  {
   "cell_type": "code",
   "execution_count": null,
   "id": "34c20e5c",
   "metadata": {},
   "outputs": [],
   "source": [
    "\n",
    "# KeplerGL test code\n",
    "# !pip install -r  requirements.txt\n",
    "# import pandas as pd\n",
    "# import keplergl\n",
    "\n",
    "# df = pd.DataFrame(\n",
    "#     {'City': ['Buenos Aires', 'Brasilia', 'Santiago', 'Bogota', 'Caracas'],\n",
    "#      'Country': ['Argentina', 'Brazil', 'Chile', 'Colombia', 'Venezuela'],\n",
    "#      'Latitude': [-34.58, -15.78, -33.45, 4.60, 10.48],\n",
    "#      'Longitude': [-58.66, -47.91, -70.66, -74.08, -66.86],\n",
    "#      'Time': ['2019-09-01 08:00','2019-09-01 09:00','2019-09-01 10:00','2019-09-01 11:00', '2019-09-01 12:00']\n",
    "#     })\n",
    "\n",
    "\n",
    "# w1 = keplergl.KeplerGl(height=600, data={'data_1': df})\n",
    "# w1\n"
   ]
  },
  {
   "cell_type": "markdown",
   "id": "04f7642b",
   "metadata": {},
   "source": [
    "START: I want to know the depth of the great salt lake at every point of its area - for the past 50/100/200(?) years\n",
    "\n",
    "How do I get this???\n",
    "\n",
    "- THIS IS ABSOLUTE LOWEST PRIORITY METHOD: sateillte imagery analysis?\n",
    "\n",
    "- I bet there is some utah government entity who has this - just need to find it\n",
    "\n"
   ]
  },
  {
   "cell_type": "code",
   "execution_count": 22,
   "id": "aa2ef0e5",
   "metadata": {},
   "outputs": [],
   "source": [
    "import pandas as pd\n",
    "import geopandas as gpd\n",
    "import keplergl\n",
    "\n",
    "gsl_2016_gdf = gpd.read_file(r\"data\\UTAH_GIS\\GSLWaterLevel2016\\GSLWaterLevel2016.shp\")\n",
    "gsl_shoreline_gdf = gpd.read_file(r'data\\UTAH_GIS\\GSLShoreline\\GSLShoreline.shp')\n",
    "counties_gdf = gpd.read_file(r\"data\\UTAH_GIS\\UtahCountyBoundaries\\Counties.shp\")\n",
    "usgs_gdf = gpd.read_file(r\"USGS_daily_items_gsl.shp\")"
   ]
  },
  {
   "cell_type": "code",
   "execution_count": 23,
   "id": "dfbdbe1e",
   "metadata": {},
   "outputs": [
    {
     "name": "stdout",
     "output_type": "stream",
     "text": [
      "User Guide: https://docs.kepler.gl/docs/keplergl-jupyter\n"
     ]
    },
    {
     "data": {
      "application/vnd.jupyter.widget-view+json": {
       "model_id": "b3be7383ba314318a4c5d88c1e21f1f9",
       "version_major": 2,
       "version_minor": 0
      },
      "text/plain": [
       "KeplerGl(data={'GSL Shoreline': {'index': [0, 1, 2, 3, 4, 5, 6, 7, 8, 9, 10, 11, 12, 13, 14, 15, 16, 17, 18, 1…"
      ]
     },
     "execution_count": 23,
     "metadata": {},
     "output_type": "execute_result"
    }
   ],
   "source": [
    "gsl_map = keplergl.KeplerGl(height=600)\n",
    "# gsl_map.add_data(data=gsl_2016_gdf, name=\"GSL Water Level\")\n",
    "gsl_map.add_data(data=gsl_shoreline_gdf, name=\"GSL Shoreline\")\n",
    "# gsl_map.add_data(data=counties_gdf, name=\"UT Counties\")\n",
    "gsl_map.add_data(data=usgs_gdf, name=\"USGS GSL Stations\")\n",
    "gsl_map"
   ]
  },
  {
   "cell_type": "code",
   "execution_count": null,
   "id": "7fae1121",
   "metadata": {},
   "outputs": [],
   "source": []
  }
 ],
 "metadata": {
  "kernelspec": {
   "display_name": ".venv",
   "language": "python",
   "name": "python3"
  },
  "language_info": {
   "codemirror_mode": {
    "name": "ipython",
    "version": 3
   },
   "file_extension": ".py",
   "mimetype": "text/x-python",
   "name": "python",
   "nbconvert_exporter": "python",
   "pygments_lexer": "ipython3",
   "version": "3.13.1"
  }
 },
 "nbformat": 4,
 "nbformat_minor": 5
}
