{
 "cells": [
  {
   "cell_type": "markdown",
   "id": "45c60c69",
   "metadata": {},
   "source": [
    "# New Goal:\n",
    "\n",
    "Just waater level across time doesn't seem to indicate that the lake's water level is decreasing\n",
    "\n",
    "# New Method needs New Ddata\n",
    "\n",
    "How would I calculate the volume of the GSL?"
   ]
  }
 ],
 "metadata": {
  "language_info": {
   "name": "python"
  }
 },
 "nbformat": 4,
 "nbformat_minor": 5
}
